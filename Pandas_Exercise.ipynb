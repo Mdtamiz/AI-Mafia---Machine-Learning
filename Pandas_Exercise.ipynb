{
 "cells": [
  {
   "cell_type": "markdown",
   "metadata": {},
   "source": [
    "# <center>Introduction to Pandas</center>\n",
    "\n",
    "![](https://pandas.pydata.org/_static/pandas_logo.png)\n",
    "\n",
    "\n",
    "## Installation\n",
    "\n",
    "Simply,\n",
    "```\n",
    "pip install pandas\n",
    "```\n",
    "\n",
    "\n",
    "## Reading data from a CSV file\n",
    "\n",
    "You can read data from a CSV file using the ``read_csv`` function. By default, it assumes that the fields are comma-separated."
   ]
  },
  {
   "cell_type": "code",
   "execution_count": 1,
   "metadata": {},
   "outputs": [],
   "source": [
    "# import pandas\n",
    "import pandas as pd"
   ]
  },
  {
   "cell_type": "markdown",
   "metadata": {},
   "source": [
    ">The `imdb.csv` dataset contains Highest Rated IMDb \"Top 1000\" Titles."
   ]
  },
  {
   "cell_type": "code",
   "execution_count": 3,
   "metadata": {},
   "outputs": [
    {
     "name": "stdout",
     "output_type": "stream",
     "text": [
      "   star_rating                     title content_rating   genre  duration  \\\n",
      "0          9.3  The Shawshank Redemption              R   Crime       142   \n",
      "1          9.2             The Godfather              R   Crime       175   \n",
      "2          9.1    The Godfather: Part II              R   Crime       200   \n",
      "3          9.0           The Dark Knight          PG-13  Action       152   \n",
      "4          8.9              Pulp Fiction              R   Crime       154   \n",
      "\n",
      "                                         actors_list  \n",
      "0  [u'Tim Robbins', u'Morgan Freeman', u'Bob Gunt...  \n",
      "1    [u'Marlon Brando', u'Al Pacino', u'James Caan']  \n",
      "2  [u'Al Pacino', u'Robert De Niro', u'Robert Duv...  \n",
      "3  [u'Christian Bale', u'Heath Ledger', u'Aaron E...  \n",
      "4  [u'John Travolta', u'Uma Thurman', u'Samuel L....  \n"
     ]
    }
   ],
   "source": [
    "# load imdb dataset as pandas dataframe\n",
    "import pandas as pd\n",
    "\n",
    "df1 = pd.read_csv(r\"C:\\Users\\mdtam\\Downloads\\imdb_1000.csv\")\n",
    "print(df1.head())"
   ]
  },
  {
   "cell_type": "code",
   "execution_count": 4,
   "metadata": {},
   "outputs": [
    {
     "data": {
      "text/html": [
       "<div>\n",
       "<style scoped>\n",
       "    .dataframe tbody tr th:only-of-type {\n",
       "        vertical-align: middle;\n",
       "    }\n",
       "\n",
       "    .dataframe tbody tr th {\n",
       "        vertical-align: top;\n",
       "    }\n",
       "\n",
       "    .dataframe thead th {\n",
       "        text-align: right;\n",
       "    }\n",
       "</style>\n",
       "<table border=\"1\" class=\"dataframe\">\n",
       "  <thead>\n",
       "    <tr style=\"text-align: right;\">\n",
       "      <th></th>\n",
       "      <th>star_rating</th>\n",
       "      <th>title</th>\n",
       "      <th>content_rating</th>\n",
       "      <th>genre</th>\n",
       "      <th>duration</th>\n",
       "      <th>actors_list</th>\n",
       "    </tr>\n",
       "  </thead>\n",
       "  <tbody>\n",
       "    <tr>\n",
       "      <th>0</th>\n",
       "      <td>9.3</td>\n",
       "      <td>The Shawshank Redemption</td>\n",
       "      <td>R</td>\n",
       "      <td>Crime</td>\n",
       "      <td>142</td>\n",
       "      <td>[u'Tim Robbins', u'Morgan Freeman', u'Bob Gunt...</td>\n",
       "    </tr>\n",
       "    <tr>\n",
       "      <th>1</th>\n",
       "      <td>9.2</td>\n",
       "      <td>The Godfather</td>\n",
       "      <td>R</td>\n",
       "      <td>Crime</td>\n",
       "      <td>175</td>\n",
       "      <td>[u'Marlon Brando', u'Al Pacino', u'James Caan']</td>\n",
       "    </tr>\n",
       "    <tr>\n",
       "      <th>2</th>\n",
       "      <td>9.1</td>\n",
       "      <td>The Godfather: Part II</td>\n",
       "      <td>R</td>\n",
       "      <td>Crime</td>\n",
       "      <td>200</td>\n",
       "      <td>[u'Al Pacino', u'Robert De Niro', u'Robert Duv...</td>\n",
       "    </tr>\n",
       "    <tr>\n",
       "      <th>3</th>\n",
       "      <td>9.0</td>\n",
       "      <td>The Dark Knight</td>\n",
       "      <td>PG-13</td>\n",
       "      <td>Action</td>\n",
       "      <td>152</td>\n",
       "      <td>[u'Christian Bale', u'Heath Ledger', u'Aaron E...</td>\n",
       "    </tr>\n",
       "    <tr>\n",
       "      <th>4</th>\n",
       "      <td>8.9</td>\n",
       "      <td>Pulp Fiction</td>\n",
       "      <td>R</td>\n",
       "      <td>Crime</td>\n",
       "      <td>154</td>\n",
       "      <td>[u'John Travolta', u'Uma Thurman', u'Samuel L....</td>\n",
       "    </tr>\n",
       "  </tbody>\n",
       "</table>\n",
       "</div>"
      ],
      "text/plain": [
       "   star_rating                     title content_rating   genre  duration  \\\n",
       "0          9.3  The Shawshank Redemption              R   Crime       142   \n",
       "1          9.2             The Godfather              R   Crime       175   \n",
       "2          9.1    The Godfather: Part II              R   Crime       200   \n",
       "3          9.0           The Dark Knight          PG-13  Action       152   \n",
       "4          8.9              Pulp Fiction              R   Crime       154   \n",
       "\n",
       "                                         actors_list  \n",
       "0  [u'Tim Robbins', u'Morgan Freeman', u'Bob Gunt...  \n",
       "1    [u'Marlon Brando', u'Al Pacino', u'James Caan']  \n",
       "2  [u'Al Pacino', u'Robert De Niro', u'Robert Duv...  \n",
       "3  [u'Christian Bale', u'Heath Ledger', u'Aaron E...  \n",
       "4  [u'John Travolta', u'Uma Thurman', u'Samuel L....  "
      ]
     },
     "execution_count": 4,
     "metadata": {},
     "output_type": "execute_result"
    }
   ],
   "source": [
    "# show first 5 rows of imdb_df\n",
    "df1.head()"
   ]
  },
  {
   "cell_type": "markdown",
   "metadata": {},
   "source": [
    ">The `bikes.csv` dataset contains information about the number of bicycles that used certain bicycle lanes in Montreal in the year 2012."
   ]
  },
  {
   "cell_type": "code",
   "execution_count": 6,
   "metadata": {},
   "outputs": [
    {
     "name": "stdout",
     "output_type": "stream",
     "text": [
      "        Date        Brand    Model  Price  Sold\n",
      "0 2023-01-01         Trek   Domane   1200     5\n",
      "1 2023-01-05        Giant     Defy   1000     7\n",
      "2 2023-01-10   Cannondale  Synapse   1500     3\n",
      "3 2023-01-15  Specialized    Allez   1100     4\n",
      "4 2023-01-20        Scott   Addict   1300     6\n"
     ]
    },
    {
     "name": "stderr",
     "output_type": "stream",
     "text": [
      "C:\\Users\\mdtam\\AppData\\Local\\Temp\\ipykernel_17904\\636161827.py:4: FutureWarning: The argument 'date_parser' is deprecated and will be removed in a future version. Please use 'date_format' instead, or read your data in as 'object' dtype and then call 'to_datetime'.\n",
      "  df2 = pd.read_csv(r\"C:\\Users\\mdtam\\Downloads\\bikes.csv\",\n"
     ]
    }
   ],
   "source": [
    "# load bikes dataset as pandas dataframe\n",
    "import pandas as pd\n",
    "\n",
    "df2 = pd.read_csv(r\"C:\\Users\\mdtam\\Downloads\\bikes.csv\", \n",
    "                  sep=';', \n",
    "                  parse_dates=['Date'], \n",
    "                  date_parser=lambda x: pd.to_datetime(x, format='%d/%m/%Y'))\n",
    "\n",
    "print(df2.head())\n"
   ]
  },
  {
   "cell_type": "code",
   "execution_count": 7,
   "metadata": {},
   "outputs": [
    {
     "data": {
      "text/html": [
       "<div>\n",
       "<style scoped>\n",
       "    .dataframe tbody tr th:only-of-type {\n",
       "        vertical-align: middle;\n",
       "    }\n",
       "\n",
       "    .dataframe tbody tr th {\n",
       "        vertical-align: top;\n",
       "    }\n",
       "\n",
       "    .dataframe thead th {\n",
       "        text-align: right;\n",
       "    }\n",
       "</style>\n",
       "<table border=\"1\" class=\"dataframe\">\n",
       "  <thead>\n",
       "    <tr style=\"text-align: right;\">\n",
       "      <th></th>\n",
       "      <th>Date</th>\n",
       "      <th>Brand</th>\n",
       "      <th>Model</th>\n",
       "      <th>Price</th>\n",
       "      <th>Sold</th>\n",
       "    </tr>\n",
       "  </thead>\n",
       "  <tbody>\n",
       "    <tr>\n",
       "      <th>0</th>\n",
       "      <td>2023-01-01</td>\n",
       "      <td>Trek</td>\n",
       "      <td>Domane</td>\n",
       "      <td>1200</td>\n",
       "      <td>5</td>\n",
       "    </tr>\n",
       "    <tr>\n",
       "      <th>1</th>\n",
       "      <td>2023-01-05</td>\n",
       "      <td>Giant</td>\n",
       "      <td>Defy</td>\n",
       "      <td>1000</td>\n",
       "      <td>7</td>\n",
       "    </tr>\n",
       "    <tr>\n",
       "      <th>2</th>\n",
       "      <td>2023-01-10</td>\n",
       "      <td>Cannondale</td>\n",
       "      <td>Synapse</td>\n",
       "      <td>1500</td>\n",
       "      <td>3</td>\n",
       "    </tr>\n",
       "  </tbody>\n",
       "</table>\n",
       "</div>"
      ],
      "text/plain": [
       "        Date       Brand    Model  Price  Sold\n",
       "0 2023-01-01        Trek   Domane   1200     5\n",
       "1 2023-01-05       Giant     Defy   1000     7\n",
       "2 2023-01-10  Cannondale  Synapse   1500     3"
      ]
     },
     "execution_count": 7,
     "metadata": {},
     "output_type": "execute_result"
    }
   ],
   "source": [
    "# show first 3 rows of bikes_df\n",
    "df2.head(3)"
   ]
  },
  {
   "cell_type": "markdown",
   "metadata": {},
   "source": [
    "## Selecting columns\n",
    "\n",
    "When you read a CSV, you get a kind of object called a DataFrame, which is made up of rows and columns. You get columns out of a DataFrame the same way you get elements out of a dictionary."
   ]
  },
  {
   "cell_type": "code",
   "execution_count": 8,
   "metadata": {},
   "outputs": [
    {
     "data": {
      "text/plain": [
       "Index(['star_rating', 'title', 'content_rating', 'genre', 'duration',\n",
       "       'actors_list'],\n",
       "      dtype='object')"
      ]
     },
     "execution_count": 8,
     "metadata": {},
     "output_type": "execute_result"
    }
   ],
   "source": [
    "# list columns of imdb_df\n",
    "df1.columns"
   ]
  },
  {
   "cell_type": "code",
   "execution_count": 10,
   "metadata": {},
   "outputs": [
    {
     "data": {
      "text/plain": [
       "star_rating       float64\n",
       "title              object\n",
       "content_rating     object\n",
       "genre              object\n",
       "duration            int64\n",
       "actors_list        object\n",
       "dtype: object"
      ]
     },
     "execution_count": 10,
     "metadata": {},
     "output_type": "execute_result"
    }
   ],
   "source": [
    "# what are the datatypes of values in columns\n",
    "# Check datatypes of columns in df1\n",
    "df1.dtypes"
   ]
  },
  {
   "cell_type": "code",
   "execution_count": 11,
   "metadata": {},
   "outputs": [
    {
     "data": {
      "text/html": [
       "<div>\n",
       "<style scoped>\n",
       "    .dataframe tbody tr th:only-of-type {\n",
       "        vertical-align: middle;\n",
       "    }\n",
       "\n",
       "    .dataframe tbody tr th {\n",
       "        vertical-align: top;\n",
       "    }\n",
       "\n",
       "    .dataframe thead th {\n",
       "        text-align: right;\n",
       "    }\n",
       "</style>\n",
       "<table border=\"1\" class=\"dataframe\">\n",
       "  <thead>\n",
       "    <tr style=\"text-align: right;\">\n",
       "      <th></th>\n",
       "      <th>title</th>\n",
       "    </tr>\n",
       "  </thead>\n",
       "  <tbody>\n",
       "    <tr>\n",
       "      <th>0</th>\n",
       "      <td>The Shawshank Redemption</td>\n",
       "    </tr>\n",
       "    <tr>\n",
       "      <th>1</th>\n",
       "      <td>The Godfather</td>\n",
       "    </tr>\n",
       "    <tr>\n",
       "      <th>2</th>\n",
       "      <td>The Godfather: Part II</td>\n",
       "    </tr>\n",
       "    <tr>\n",
       "      <th>3</th>\n",
       "      <td>The Dark Knight</td>\n",
       "    </tr>\n",
       "    <tr>\n",
       "      <th>4</th>\n",
       "      <td>Pulp Fiction</td>\n",
       "    </tr>\n",
       "    <tr>\n",
       "      <th>5</th>\n",
       "      <td>12 Angry Men</td>\n",
       "    </tr>\n",
       "  </tbody>\n",
       "</table>\n",
       "</div>"
      ],
      "text/plain": [
       "                      title\n",
       "0  The Shawshank Redemption\n",
       "1             The Godfather\n",
       "2    The Godfather: Part II\n",
       "3           The Dark Knight\n",
       "4              Pulp Fiction\n",
       "5              12 Angry Men"
      ]
     },
     "execution_count": 11,
     "metadata": {},
     "output_type": "execute_result"
    }
   ],
   "source": [
    "# list first 5 movie titles\n",
    "df1.loc[0:5,[\"title\"]]"
   ]
  },
  {
   "cell_type": "code",
   "execution_count": 12,
   "metadata": {},
   "outputs": [
    {
     "data": {
      "text/html": [
       "<div>\n",
       "<style scoped>\n",
       "    .dataframe tbody tr th:only-of-type {\n",
       "        vertical-align: middle;\n",
       "    }\n",
       "\n",
       "    .dataframe tbody tr th {\n",
       "        vertical-align: top;\n",
       "    }\n",
       "\n",
       "    .dataframe thead th {\n",
       "        text-align: right;\n",
       "    }\n",
       "</style>\n",
       "<table border=\"1\" class=\"dataframe\">\n",
       "  <thead>\n",
       "    <tr style=\"text-align: right;\">\n",
       "      <th></th>\n",
       "      <th>title</th>\n",
       "      <th>genre</th>\n",
       "    </tr>\n",
       "  </thead>\n",
       "  <tbody>\n",
       "    <tr>\n",
       "      <th>0</th>\n",
       "      <td>The Shawshank Redemption</td>\n",
       "      <td>Crime</td>\n",
       "    </tr>\n",
       "    <tr>\n",
       "      <th>1</th>\n",
       "      <td>The Godfather</td>\n",
       "      <td>Crime</td>\n",
       "    </tr>\n",
       "    <tr>\n",
       "      <th>2</th>\n",
       "      <td>The Godfather: Part II</td>\n",
       "      <td>Crime</td>\n",
       "    </tr>\n",
       "    <tr>\n",
       "      <th>3</th>\n",
       "      <td>The Dark Knight</td>\n",
       "      <td>Action</td>\n",
       "    </tr>\n",
       "    <tr>\n",
       "      <th>4</th>\n",
       "      <td>Pulp Fiction</td>\n",
       "      <td>Crime</td>\n",
       "    </tr>\n",
       "    <tr>\n",
       "      <th>...</th>\n",
       "      <td>...</td>\n",
       "      <td>...</td>\n",
       "    </tr>\n",
       "    <tr>\n",
       "      <th>974</th>\n",
       "      <td>Tootsie</td>\n",
       "      <td>Comedy</td>\n",
       "    </tr>\n",
       "    <tr>\n",
       "      <th>975</th>\n",
       "      <td>Back to the Future Part III</td>\n",
       "      <td>Adventure</td>\n",
       "    </tr>\n",
       "    <tr>\n",
       "      <th>976</th>\n",
       "      <td>Master and Commander: The Far Side of the World</td>\n",
       "      <td>Action</td>\n",
       "    </tr>\n",
       "    <tr>\n",
       "      <th>977</th>\n",
       "      <td>Poltergeist</td>\n",
       "      <td>Horror</td>\n",
       "    </tr>\n",
       "    <tr>\n",
       "      <th>978</th>\n",
       "      <td>Wall Street</td>\n",
       "      <td>Crime</td>\n",
       "    </tr>\n",
       "  </tbody>\n",
       "</table>\n",
       "<p>979 rows × 2 columns</p>\n",
       "</div>"
      ],
      "text/plain": [
       "                                               title      genre\n",
       "0                           The Shawshank Redemption      Crime\n",
       "1                                      The Godfather      Crime\n",
       "2                             The Godfather: Part II      Crime\n",
       "3                                    The Dark Knight     Action\n",
       "4                                       Pulp Fiction      Crime\n",
       "..                                               ...        ...\n",
       "974                                          Tootsie     Comedy\n",
       "975                      Back to the Future Part III  Adventure\n",
       "976  Master and Commander: The Far Side of the World     Action\n",
       "977                                      Poltergeist     Horror\n",
       "978                                      Wall Street      Crime\n",
       "\n",
       "[979 rows x 2 columns]"
      ]
     },
     "execution_count": 12,
     "metadata": {},
     "output_type": "execute_result"
    }
   ],
   "source": [
    "# show only movie title and genre\n",
    "df1[['title','genre']]"
   ]
  },
  {
   "cell_type": "markdown",
   "metadata": {},
   "source": [
    "## Understanding columns\n",
    "\n",
    "On the inside, the type of a column is ``pd.Series`` and pandas Series are internally numpy arrays. If you add ``.values`` to the end of any Series, you'll get its internal **numpy array**."
   ]
  },
  {
   "cell_type": "code",
   "execution_count": 13,
   "metadata": {},
   "outputs": [
    {
     "data": {
      "text/plain": [
       "dtype('int64')"
      ]
     },
     "execution_count": 13,
     "metadata": {},
     "output_type": "execute_result"
    }
   ],
   "source": [
    "# show the type of duration column\n",
    "df1['duration'].dtype"
   ]
  },
  {
   "cell_type": "code",
   "execution_count": 14,
   "metadata": {},
   "outputs": [
    {
     "name": "stdout",
     "output_type": "stream",
     "text": [
      "[142 175 200 152 154  96 161 201 195 139 178 148 124 142 179 169 133 207\n",
      " 146 121 136 130 130 106 127 116 175 118 110  87 125 112 102 107 119  87\n",
      " 169 115 112 109 189 110 150 165 155 137 113 165  95 151 155 153 125 130\n",
      " 116  89 137 117  88 165 170  89 146  99  98 116 156 122 149 134 122 136\n",
      " 157 123 119 137 128 120 229 107 134 103 177 129 102 216 136  93  68 189\n",
      "  99 108 113 181 103 138 110 129  88 160 126  91 116 125 143  93 102 132\n",
      " 153 183 160 120 138 140 153 170 129  81 127 131 172 115 108 107 129 156\n",
      "  96  91  95 162 130  86 186 151  96 170 118 161 131 126 131 129 224 180\n",
      " 105 117 140 119 124 130 139 107 132 117 126 122 178 238 149 172  98 116\n",
      " 116 123 148 123 182  92  93 100 135 105  94 140  83  95  98 143  99  98\n",
      " 121 163 121 167 188 121 109 110 129 127  94 107 100 117 129 120 121 133\n",
      " 111 122 101 134 165 138 212 154  89 134  93 114  88 130 101 158  99 108\n",
      " 124 132 113 131 191 167 130 147 102  88 165 132 118 101 108 174  98  92\n",
      "  98 106  85 101 105 115 115 124 105 103 138 184 120  99 131 138  98 123\n",
      " 118 114 118 112 124 160  67 146 125 115 134 141 129 104  94 124 150 119\n",
      " 128 143  85 151 118 101  99  92 125 102 106 107  91  80 122 102 112  92\n",
      " 135 136 153 105 126  68  84 103 145  80 106 127 178 137 172  76 130  96\n",
      "  82 115  95 143 125 120 127 112 104 113 189 127 188  96 113 132 122 126\n",
      " 140 133 112 102  93 109  81 108 111 119  96 197 127 138  66 181 141 144\n",
      " 128  83 121  98 117  94 174 112 108  70  99  96 137 136 100  90  96 161\n",
      " 115 181 169  98 136 138 119 123 112 120 103  97 109 165 156 147 100 126\n",
      " 115 105 144 102 107 119  90 197  86 113 133  64 141 113 122 105 119 102\n",
      " 122 123 113  97 117 111  85  99 134  75 109 117  91 128 111 119 100 114\n",
      "  92 141 101 115 127  96 129 135 109 157 193  94 155 113 130 117 159 141\n",
      " 112 162 126 120 144 120 109  97 108 115 136  90 170 220 116 134 124  91\n",
      " 103  96 119  98 101  93 179 155 121 103 127 103 107 100  92  94 158  86\n",
      " 115 130 107 100 108 124 131 122 242 127 141 126  89 113 152 107  92 145\n",
      "  84 126 132  78 117 128 100 128 100 143 107 100 125 106 157  94 104  94\n",
      " 153 123 120 105 166 112  94 111  87  80 108 102 105 136 101 100 108 101\n",
      " 106 105  88 129 138 129 118 139 123 150 132  80 178  79 163 114 144 130\n",
      " 154  81  95 101 120  93 115 106 120 110 123 142  99 112 120 122 130 139\n",
      " 129 141 127 130 118 110 115 101 112 108 143 152 117 121 119 114 122 105\n",
      " 110 116 139 121 109 146 113 100 121 113 113 117  93 101  90 131  98  93\n",
      " 121  82 124 100 117  99 116 123 114 133 105 127 144  90 118 122 102 187\n",
      "  87 154  89  88 129  95 118  98 194 114  80 130 135 101 105 129 134 143\n",
      " 202  89 106  92 137 124 122 113 112 110 135  88 146 104 125 131  91 142\n",
      " 129 158 102  99 101 104 119 103  88 100 146 150 140 140 110  97 102 152\n",
      " 100  94  85 104 112 191 119 111  94 103 134 157 158 127 101 109  98 134\n",
      " 168  93 145 111  88 123 121 144 116 124 147 106 113 129  94 126 128 111\n",
      " 146  85 105 132 130 162 113 110 113 162 110  78  92  95 138 102 128  96\n",
      " 164 126 110 109 122 124 128 157 120 102 152 170 102 116 164  85 104  99\n",
      "  81 131 101 121  69  92  94 141 116  98 135 121 108 114 102 112 140 157\n",
      " 128 108 139  83 131 113 136  96 118 108  83 205 124 111 137 104 109 115\n",
      "  99 114 133 131 131 123 126  97 126  89 122 121 125 105 118  81 115 126\n",
      " 113 107 126 111  85 120  93 100 107 126 131 116 143  93  96 160 137 119\n",
      " 114  98 111 138 144 107 114 125 146 113  85  97  93 113 128 114 147 127\n",
      " 167 124 109 124 102 130 125  98 154  97 128  98 101 147 172 125  88 125\n",
      " 121 112 120 133 110 135 110  80 135 101 112 124 129 104  96 105 109 117\n",
      "  78 138 106  90 106  91 112 134 112 104 101 120 123 133 110 129 120  83\n",
      "  88  96 139 113  84 106 170 144 104 153  85 130  93 148 115 102 125 106\n",
      " 121 143 116  99 116 128 119 104 114 152 129 103 112  92 141 106 109 104\n",
      " 122 111 112 116 130 133 134  92 104 110  97 100 118 112 138  92 118 140\n",
      " 128 101  75  97 111 175  94  97 132 120 107  89  86 103 108 105 117 102\n",
      " 104 157 104  98 109  96 103 114  99 118 150 105  87 136 162 109 107  90\n",
      " 112 126 116 118 138 114 126]\n",
      "<class 'numpy.ndarray'>\n"
     ]
    }
   ],
   "source": [
    "# show duration values of movies as numpy arrays\n",
    "import numpy as np\n",
    "s1 = np.array(df1['duration'])\n",
    "\n",
    "print(s1)\n",
    "print(type(s1))"
   ]
  },
  {
   "cell_type": "markdown",
   "metadata": {},
   "source": [
    "## Applying functions to columns\n",
    "\n",
    "Use `.apply` function to apply any function to each element of a column."
   ]
  },
  {
   "cell_type": "code",
   "execution_count": 15,
   "metadata": {},
   "outputs": [
    {
     "data": {
      "text/plain": [
       "0    THE SHAWSHANK REDEMPTION\n",
       "1               THE GODFATHER\n",
       "2      THE GODFATHER: PART II\n",
       "3             THE DARK KNIGHT\n",
       "4                PULP FICTION\n",
       "Name: title, dtype: object"
      ]
     },
     "execution_count": 15,
     "metadata": {},
     "output_type": "execute_result"
    }
   ],
   "source": [
    "# convert all the movie titles to uppercase\n",
    "to_uppercase = lambda x: x.upper()\n",
    "df1['title'].apply(to_uppercase).head()"
   ]
  },
  {
   "cell_type": "markdown",
   "metadata": {},
   "source": [
    "## Plotting a column\n",
    "\n",
    "Use ``.plot()`` function!"
   ]
  },
  {
   "cell_type": "code",
   "execution_count": 16,
   "metadata": {},
   "outputs": [
    {
     "data": {
      "text/html": [
       "<div>\n",
       "<style scoped>\n",
       "    .dataframe tbody tr th:only-of-type {\n",
       "        vertical-align: middle;\n",
       "    }\n",
       "\n",
       "    .dataframe tbody tr th {\n",
       "        vertical-align: top;\n",
       "    }\n",
       "\n",
       "    .dataframe thead th {\n",
       "        text-align: right;\n",
       "    }\n",
       "</style>\n",
       "<table border=\"1\" class=\"dataframe\">\n",
       "  <thead>\n",
       "    <tr style=\"text-align: right;\">\n",
       "      <th></th>\n",
       "      <th>Date</th>\n",
       "      <th>Brand</th>\n",
       "      <th>Model</th>\n",
       "      <th>Price</th>\n",
       "      <th>Sold</th>\n",
       "    </tr>\n",
       "  </thead>\n",
       "  <tbody>\n",
       "    <tr>\n",
       "      <th>0</th>\n",
       "      <td>2023-01-01</td>\n",
       "      <td>Trek</td>\n",
       "      <td>Domane</td>\n",
       "      <td>1200</td>\n",
       "      <td>5</td>\n",
       "    </tr>\n",
       "    <tr>\n",
       "      <th>1</th>\n",
       "      <td>2023-01-05</td>\n",
       "      <td>Giant</td>\n",
       "      <td>Defy</td>\n",
       "      <td>1000</td>\n",
       "      <td>7</td>\n",
       "    </tr>\n",
       "    <tr>\n",
       "      <th>2</th>\n",
       "      <td>2023-01-10</td>\n",
       "      <td>Cannondale</td>\n",
       "      <td>Synapse</td>\n",
       "      <td>1500</td>\n",
       "      <td>3</td>\n",
       "    </tr>\n",
       "    <tr>\n",
       "      <th>3</th>\n",
       "      <td>2023-01-15</td>\n",
       "      <td>Specialized</td>\n",
       "      <td>Allez</td>\n",
       "      <td>1100</td>\n",
       "      <td>4</td>\n",
       "    </tr>\n",
       "    <tr>\n",
       "      <th>4</th>\n",
       "      <td>2023-01-20</td>\n",
       "      <td>Scott</td>\n",
       "      <td>Addict</td>\n",
       "      <td>1300</td>\n",
       "      <td>6</td>\n",
       "    </tr>\n",
       "  </tbody>\n",
       "</table>\n",
       "</div>"
      ],
      "text/plain": [
       "        Date        Brand    Model  Price  Sold\n",
       "0 2023-01-01         Trek   Domane   1200     5\n",
       "1 2023-01-05        Giant     Defy   1000     7\n",
       "2 2023-01-10   Cannondale  Synapse   1500     3\n",
       "3 2023-01-15  Specialized    Allez   1100     4\n",
       "4 2023-01-20        Scott   Addict   1300     6"
      ]
     },
     "execution_count": 16,
     "metadata": {},
     "output_type": "execute_result"
    }
   ],
   "source": [
    "# plot the bikers travelling to Berri1 over the year\n",
    "df2.head()"
   ]
  },
  {
   "cell_type": "code",
   "execution_count": 30,
   "metadata": {},
   "outputs": [
    {
     "name": "stdout",
     "output_type": "stream",
     "text": [
      "Index(['Date;Berri_1;Berri_2'], dtype='object')\n"
     ]
    }
   ],
   "source": [
    "import pandas as pd\n",
    "\n",
    "df2 = pd.read_csv(\"bikes.csv\")\n",
    "print(df2.columns)\n"
   ]
  },
  {
   "cell_type": "markdown",
   "metadata": {},
   "source": [
    "## Value counts\n",
    "\n",
    "Get count of unique values in a particular column/Series."
   ]
  },
  {
   "cell_type": "code",
   "execution_count": 31,
   "metadata": {},
   "outputs": [
    {
     "data": {
      "text/plain": [
       "array(['Crime', 'Action', 'Drama', 'Western', 'Adventure', 'Biography',\n",
       "       'Comedy', 'Animation', 'Mystery', 'Horror', 'Film-Noir', 'Sci-Fi',\n",
       "       'History', 'Thriller', 'Family', 'Fantasy'], dtype=object)"
      ]
     },
     "execution_count": 31,
     "metadata": {},
     "output_type": "execute_result"
    }
   ],
   "source": [
    "# what are the unique genre in imdb_df?\n",
    "genre_arr = pd.unique(df1['genre'])\n",
    "genre_arr"
   ]
  },
  {
   "cell_type": "code",
   "execution_count": 43,
   "metadata": {},
   "outputs": [
    {
     "data": {
      "text/plain": [
       "<Axes: xlabel='genre'>"
      ]
     },
     "execution_count": 43,
     "metadata": {},
     "output_type": "execute_result"
    },
    {
     "data": {
      "image/png": "[encoded data removed]",
      "text/plain": [
       "<Figure size 640x480 with 1 Axes>"
      ]
     },
     "metadata": {},
     "output_type": "display_data"
    }
   ],
   "source": [
    "# plotting value counts of unique genres as a bar chart\n",
    "df1['genre'].value_counts().plot.bar()"
   ]
  },
  {
   "cell_type": "code",
   "execution_count": 42,
   "metadata": {},
   "outputs": [
    {
     "data": {
      "text/plain": [
       "<Axes: ylabel='count'>"
      ]
     },
     "execution_count": 42,
     "metadata": {},
     "output_type": "execute_result"
    },
    {
     "data": {
      "image/png": "[encoded data removed]",
      "text/plain": [
       "<Figure size 640x480 with 1 Axes>"
      ]
     },
     "metadata": {},
     "output_type": "display_data"
    }
   ],
   "source": [
    "# plotting value counts of unique genres as a pie chart\n",
    "df1['genre'].value_counts().plot.pie()"
   ]
  },
  {
   "cell_type": "markdown",
   "metadata": {},
   "source": [
    "## Index\n",
    "\n",
    "### DATAFRAME = COLUMNS + INDEX + ND DATA\n",
    "\n",
    "### SERIES = INDEX + 1-D DATA\n",
    "\n",
    "**Index** or (**row labels**) is one of the fundamental data structure of pandas. It can be thought of as an **immutable array** and an **ordered set**.\n",
    "\n",
    "> Every row is uniquely identified by its index value."
   ]
  },
  {
   "cell_type": "code",
   "execution_count": 63,
   "metadata": {},
   "outputs": [
    {
     "data": {
      "text/plain": [
       "array([0, 1, 2, 3, 4])"
      ]
     },
     "execution_count": 63,
     "metadata": {},
     "output_type": "execute_result"
    }
   ],
   "source": [
    "# show index of bikes_df\n",
    "df2.index.values\n",
    "#df2.index"
   ]
  },
  {
   "cell_type": "code",
   "execution_count": 70,
   "metadata": {},
   "outputs": [
    {
     "data": {
      "text/plain": [
       "RangeIndex(start=0, stop=5, step=1)"
      ]
     },
     "execution_count": 70,
     "metadata": {},
     "output_type": "execute_result"
    }
   ],
   "source": [
    "# get row for date 2012-01-01\n",
    "df2.index\n"
   ]
  },
  {
   "cell_type": "markdown",
   "metadata": {},
   "source": [
    "#### To get row by integer index:\n",
    "\n",
    "Use ``.iloc[]`` for purely integer-location based indexing for selection by position."
   ]
  },
  {
   "cell_type": "code",
   "execution_count": 62,
   "metadata": {},
   "outputs": [],
   "source": [
    "# show 11th row of imdb_df using iloc\n"
   ]
  },
  {
   "cell_type": "markdown",
   "metadata": {},
   "source": [
    "## Selecting rows where column has a particular value"
   ]
  },
  {
   "cell_type": "code",
   "execution_count": null,
   "metadata": {},
   "outputs": [],
   "source": [
    "# select only those movies where genre is adventure"
   ]
  },
  {
   "cell_type": "code",
   "execution_count": null,
   "metadata": {},
   "outputs": [],
   "source": [
    "# which genre has highest number of movies with star rating above 8 and duration more than 130 minutes?"
   ]
  },
  {
   "cell_type": "markdown",
   "metadata": {},
   "source": [
    "## Adding a new column to DataFrame"
   ]
  },
  {
   "cell_type": "code",
   "execution_count": null,
   "metadata": {},
   "outputs": [],
   "source": [
    "# add a weekday column to bikes_df"
   ]
  },
  {
   "cell_type": "markdown",
   "metadata": {},
   "source": [
    "## Deleting an existing column from DataFrame"
   ]
  },
  {
   "cell_type": "code",
   "execution_count": null,
   "metadata": {},
   "outputs": [],
   "source": [
    "# remove column 'Unnamed: 1' from bikes_df"
   ]
  },
  {
   "cell_type": "markdown",
   "metadata": {},
   "source": [
    "## Deleting a row in DataFrame"
   ]
  },
  {
   "cell_type": "code",
   "execution_count": null,
   "metadata": {},
   "outputs": [],
   "source": [
    "# remove row no. 1 from bikes_df"
   ]
  },
  {
   "cell_type": "markdown",
   "metadata": {},
   "source": [
    "## Group By\n",
    "\n",
    "Any groupby operation involves one of the following operations on the original object. They are −\n",
    "\n",
    "- Splitting the Object\n",
    "\n",
    "- Applying a function\n",
    "\n",
    "- Combining the results\n",
    "\n",
    "In many situations, we split the data into sets and we apply some functionality on each subset. In the apply functionality, we can perform the following operations −\n",
    "\n",
    "- **Aggregation** − computing a summary statistic\n",
    "\n",
    "- **Transformation** − perform some group-specific operation\n",
    "\n",
    "- **Filtration** − discarding the data with some condition"
   ]
  },
  {
   "cell_type": "code",
   "execution_count": null,
   "metadata": {},
   "outputs": [],
   "source": [
    "# group imdb_df by movie genres"
   ]
  },
  {
   "cell_type": "code",
   "execution_count": null,
   "metadata": {},
   "outputs": [],
   "source": [
    "# get crime movies group"
   ]
  },
  {
   "cell_type": "code",
   "execution_count": null,
   "metadata": {},
   "outputs": [],
   "source": [
    "# get mean of movie durations for each group"
   ]
  },
  {
   "cell_type": "code",
   "execution_count": null,
   "metadata": {},
   "outputs": [],
   "source": [
    "# change duration of all movies in a particular genre to mean duration of the group"
   ]
  },
  {
   "cell_type": "code",
   "execution_count": null,
   "metadata": {},
   "outputs": [],
   "source": [
    "# drop groups/genres that do not have average movie duration greater than 120."
   ]
  },
  {
   "cell_type": "code",
   "execution_count": null,
   "metadata": {},
   "outputs": [],
   "source": [
    "# group weekday wise bikers count"
   ]
  },
  {
   "cell_type": "code",
   "execution_count": null,
   "metadata": {},
   "outputs": [],
   "source": [
    "# get weekday wise biker count"
   ]
  },
  {
   "cell_type": "code",
   "execution_count": null,
   "metadata": {},
   "outputs": [],
   "source": [
    "# plot weekday wise biker count for 'Berri1'\n"
   ]
  },
  {
   "cell_type": "markdown",
   "metadata": {},
   "source": [
    "![](https://memegenerator.net/img/instances/500x/73988569/pythonpandas-is-easy-import-and-go.jpg)"
   ]
  }
 ],
 "metadata": {
  "kernelspec": {
   "display_name": "Python [conda env:base] *",
   "language": "python",
   "name": "conda-base-py"
  },
  "language_info": {
   "codemirror_mode": {
    "name": "ipython",
    "version": 3
   },
   "file_extension": ".py",
   "mimetype": "text/x-python",
   "name": "python",
   "nbconvert_exporter": "python",
   "pygments_lexer": "ipython3",
   "version": "3.13.5"
  }
 },
 "nbformat": 4,
 "nbformat_minor": 4
}
